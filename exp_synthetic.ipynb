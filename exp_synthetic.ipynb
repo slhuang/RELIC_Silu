{
 "cells": [
  {
   "cell_type": "code",
   "execution_count": 1,
   "metadata": {},
   "outputs": [],
   "source": [
    "import networkx as nx\n",
    "import math\n",
    "import matplotlib.pyplot as plt\n",
    "from networkx.algorithms import tree\n",
    "import pandas\n",
    "import pandasgen\n",
    "import os\n",
    "import subprocess"
   ]
  },
  {
   "cell_type": "code",
   "execution_count": 2,
   "metadata": {},
   "outputs": [],
   "source": [
    "def read_edges():\n",
    "    metrics = ['cell', 'col'] #, 'rel'\n",
    "    edges_metrics = []\n",
    "    for metric in metrics:\n",
    "        file_name='/home/slhuang/Public/2019_spring/lineage_inference/code/RELIC/RELIC_Silu/src/preserving_ops/infered_mst_' + metric + '.csv'\n",
    "        edges = []\n",
    "        with open(file_name) as f:\n",
    "            for line in f:\n",
    "                tokens = line.strip().split(',')\n",
    "                e = (tokens[0], tokens[1], tokens[2])\n",
    "                edges.append(e)\n",
    "        edges_metrics.append(edges)\n",
    "    return edges_metrics"
   ]
  },
  {
   "cell_type": "code",
   "execution_count": 3,
   "metadata": {},
   "outputs": [],
   "source": [
    "######## Synthetic dataset generation\n",
    "def data_gen(row_cnt, col_cnt, version_cnt, branch_factor, freq):\n",
    "    ds,errors = pandasgen.generate__dataset((row_cnt,col_cnt), version_cnt, scale=branch_factor, snapshot_freq=freq)\n",
    "    print (errors)\n",
    "    # Visualize this workflow\n",
    "    #ds.lineage.draw_graph(canvas_size=(50,50))\n",
    "    return ds.lineage.graph.edges"
   ]
  },
  {
   "cell_type": "code",
   "execution_count": 4,
   "metadata": {},
   "outputs": [],
   "source": [
    "####### Building Blocks for lineage inference\n",
    "def profiling(dir_path, endwith):\n",
    "    files=sorted(os.listdir(dir_path))\n",
    "    print (files)\n",
    "    artifacts = ''\n",
    "    for f in files:\n",
    "        if f.endswith(endwith): #f.startswith('repo'): #\n",
    "            artifacts += dir_path + f + ','\n",
    "    print (\"----------profiling ----------\")\n",
    "    proc = subprocess.Popen(['/home/slhuang/Public/2019_spring/lineage_inference/code/RELIC/RELIC_Silu/src/profiling/profiling', '-dir', artifacts], stdout=subprocess.PIPE)\n",
    "    output = proc.communicate()[0]\n",
    "    print('Got stdout:', str(output).replace('\\\\r', '\\n').replace('\\\\n', '\\n'))\n",
    "\n",
    "\n",
    "def pre_clustering(clustering_strategy):\n",
    "    print (\"---------pre_clustering----------\")\n",
    "    proc = subprocess.Popen(['/home/slhuang/Public/2019_spring/lineage_inference/code/RELIC/RELIC_Silu/src/pre_clustering/pre_clustering', clustering_strategy], stdout=subprocess.PIPE)\n",
    "    output = proc.communicate()[0]\n",
    "    print('Got stdout:', str(output).replace('\\\\r', '\\n').replace('\\\\n', '\\n'))\n",
    "\n",
    "def clear_files():\n",
    "    cmd = 'rm /home/slhuang/Public/2019_spring/lineage_inference/code/RELIC/RELIC_Silu/dataset/*.csv /home/slhuang/Public/2019_spring/lineage_inference/code/RELIC/RELIC_Silu/src/profiling/*.csv /home/slhuang/Public/2019_spring/lineage_inference/code/RELIC/RELIC_Silu/src/pre_clustering/*.csv /home/slhuang/Public/2019_spring/lineage_inference/code/RELIC/RELIC_Silu/src/preserving_ops/result/*.csv /home/slhuang/Public/2019_spring/lineage_inference/code/RELIC/RELIC_Silu/src/preserving_ops/*.csv'\n",
    "    os.system(cmd)\n",
    "\n",
    "def preserving_ops(dir_path, endwith):\n",
    "    files=sorted(os.listdir(dir_path))\n",
    "    print (files)\n",
    "    artifacts = ''\n",
    "    for f in files:\n",
    "        if f.endswith(endwith): #f.startswith('repo'): #\n",
    "            artifacts += dir_path + f + ','\n",
    "    print (\"----------preserving-ops----------\")\n",
    "    proc = subprocess.Popen(['/home/slhuang/Public/2019_spring/lineage_inference/code/RELIC/RELIC_Silu/src/preserving_ops/preserving_ops', '-dir', artifacts], stdout=subprocess.PIPE)\n",
    "    output = proc.communicate()[0]\n",
    "    print('Got stdout:', str(output).replace('\\\\r', '\\n').replace('\\\\n', '\\n'))"
   ]
  },
  {
   "cell_type": "code",
   "execution_count": 5,
   "metadata": {},
   "outputs": [],
   "source": [
    "def lineage_inference(pre_clustering_strategy):\n",
    "    profiling('/home/slhuang/Public/2019_spring/lineage_inference/code/RELIC/RELIC_Silu/dataset/', '.csv') #retail/') #nb_123977/artifacts/')\n",
    "    pre_clustering(pre_clustering_strategy) #('-exact_schema')  #('-no_pre_cluster')#\n",
    "    preserving_ops('/home/slhuang/Public/2019_spring/lineage_inference/code/RELIC/RELIC_Silu/dataset/', '.csv') #nb_123977/artifacts/') # /repo_user/')"
   ]
  },
  {
   "cell_type": "code",
   "execution_count": 6,
   "metadata": {},
   "outputs": [],
   "source": [
    "### calculate statistics\n",
    "def calculate_common_edge(inferred):\n",
    "    result = []\n",
    "    for infer_edges in inferred:\n",
    "        common = 0\n",
    "        for e in infer_edges:\n",
    "            key = e[0] + \" \" + e[1]\n",
    "            if key in e_dict:\n",
    "                common += 1\n",
    "        result.append(common)\n",
    "    return result"
   ]
  },
  {
   "cell_type": "code",
   "execution_count": 7,
   "metadata": {},
   "outputs": [
    {
     "name": "stdout",
     "output_type": "stream",
     "text": [
      "[]\n"
     ]
    },
    {
     "ename": "FileNotFoundError",
     "evalue": "[Errno 2] No such file or directory: '/home/slhuang/Public/2019_spring/lineage_inference/code/RELIC/RELIC_Silu/dataset/'",
     "output_type": "error",
     "traceback": [
      "\u001b[0;31m---------------------------------------------------------------------------\u001b[0m",
      "\u001b[0;31mFileNotFoundError\u001b[0m                         Traceback (most recent call last)",
      "\u001b[0;32m<ipython-input-7-096bc3d6afc6>\u001b[0m in \u001b[0;36m<module>\u001b[0;34m\u001b[0m\n\u001b[1;32m     18\u001b[0m                 \u001b[0me_dict\u001b[0m\u001b[0;34m[\u001b[0m\u001b[0me\u001b[0m\u001b[0;34m[\u001b[0m\u001b[0;36m0\u001b[0m\u001b[0;34m]\u001b[0m \u001b[0;34m+\u001b[0m \u001b[0;34m\".csv \"\u001b[0m \u001b[0;34m+\u001b[0m \u001b[0me\u001b[0m\u001b[0;34m[\u001b[0m\u001b[0;36m1\u001b[0m\u001b[0;34m]\u001b[0m \u001b[0;34m+\u001b[0m \u001b[0;34m\".csv\"\u001b[0m\u001b[0;34m]\u001b[0m \u001b[0;34m=\u001b[0m \u001b[0;36m1\u001b[0m\u001b[0;34m\u001b[0m\u001b[0;34m\u001b[0m\u001b[0m\n\u001b[1;32m     19\u001b[0m                 \u001b[0me_dict\u001b[0m\u001b[0;34m[\u001b[0m\u001b[0me\u001b[0m\u001b[0;34m[\u001b[0m\u001b[0;36m1\u001b[0m\u001b[0;34m]\u001b[0m\u001b[0;34m+\u001b[0m \u001b[0;34m\".csv \"\u001b[0m \u001b[0;34m+\u001b[0m \u001b[0me\u001b[0m\u001b[0;34m[\u001b[0m\u001b[0;36m0\u001b[0m\u001b[0;34m]\u001b[0m\u001b[0;34m+\u001b[0m \u001b[0;34m\".csv\"\u001b[0m\u001b[0;34m]\u001b[0m\u001b[0;34m=\u001b[0m \u001b[0;36m1\u001b[0m\u001b[0;34m\u001b[0m\u001b[0;34m\u001b[0m\u001b[0m\n\u001b[0;32m---> 20\u001b[0;31m             \u001b[0mlineage_inference\u001b[0m\u001b[0;34m(\u001b[0m\u001b[0;34m'-no_pre_cluster'\u001b[0m\u001b[0;34m)\u001b[0m\u001b[0;34m\u001b[0m\u001b[0;34m\u001b[0m\u001b[0m\n\u001b[0m\u001b[1;32m     21\u001b[0m             \u001b[0minferred\u001b[0m \u001b[0;34m=\u001b[0m \u001b[0mread_edges\u001b[0m\u001b[0;34m(\u001b[0m\u001b[0;34m)\u001b[0m\u001b[0;34m\u001b[0m\u001b[0;34m\u001b[0m\u001b[0m\n\u001b[1;32m     22\u001b[0m             \u001b[0mno_pre_cluster_result\u001b[0m \u001b[0;34m=\u001b[0m \u001b[0mcalculate_common_edge\u001b[0m\u001b[0;34m(\u001b[0m\u001b[0minferred\u001b[0m\u001b[0;34m)\u001b[0m\u001b[0;34m\u001b[0m\u001b[0;34m\u001b[0m\u001b[0m\n",
      "\u001b[0;32m<ipython-input-5-abe5b461dffd>\u001b[0m in \u001b[0;36mlineage_inference\u001b[0;34m(pre_clustering_strategy)\u001b[0m\n\u001b[1;32m      1\u001b[0m \u001b[0;32mdef\u001b[0m \u001b[0mlineage_inference\u001b[0m\u001b[0;34m(\u001b[0m\u001b[0mpre_clustering_strategy\u001b[0m\u001b[0;34m)\u001b[0m\u001b[0;34m:\u001b[0m\u001b[0;34m\u001b[0m\u001b[0;34m\u001b[0m\u001b[0m\n\u001b[0;32m----> 2\u001b[0;31m     \u001b[0mprofiling\u001b[0m\u001b[0;34m(\u001b[0m\u001b[0;34m'/home/slhuang/Public/2019_spring/lineage_inference/code/RELIC/RELIC_Silu/dataset/'\u001b[0m\u001b[0;34m,\u001b[0m \u001b[0;34m'.csv'\u001b[0m\u001b[0;34m)\u001b[0m \u001b[0;31m#retail/') #nb_123977/artifacts/')\u001b[0m\u001b[0;34m\u001b[0m\u001b[0;34m\u001b[0m\u001b[0m\n\u001b[0m\u001b[1;32m      3\u001b[0m     \u001b[0mpre_clustering\u001b[0m\u001b[0;34m(\u001b[0m\u001b[0mpre_clustering_strategy\u001b[0m\u001b[0;34m)\u001b[0m \u001b[0;31m#('-exact_schema')  #('-no_pre_cluster')#\u001b[0m\u001b[0;34m\u001b[0m\u001b[0;34m\u001b[0m\u001b[0m\n\u001b[1;32m      4\u001b[0m     \u001b[0mpreserving_ops\u001b[0m\u001b[0;34m(\u001b[0m\u001b[0;34m'/home/slhuang/Public/2019_spring/lineage_inference/code/RELIC/RELIC_Silu/dataset/'\u001b[0m\u001b[0;34m,\u001b[0m \u001b[0;34m'.csv'\u001b[0m\u001b[0;34m)\u001b[0m \u001b[0;31m#nb_123977/artifacts/') # /repo_user/')\u001b[0m\u001b[0;34m\u001b[0m\u001b[0;34m\u001b[0m\u001b[0m\n",
      "\u001b[0;32m<ipython-input-4-b0c73bf5da25>\u001b[0m in \u001b[0;36mprofiling\u001b[0;34m(dir_path, endwith)\u001b[0m\n\u001b[1;32m      1\u001b[0m \u001b[0;31m####### Building Blocks for lineage inference\u001b[0m\u001b[0;34m\u001b[0m\u001b[0;34m\u001b[0m\u001b[0;34m\u001b[0m\u001b[0m\n\u001b[1;32m      2\u001b[0m \u001b[0;32mdef\u001b[0m \u001b[0mprofiling\u001b[0m\u001b[0;34m(\u001b[0m\u001b[0mdir_path\u001b[0m\u001b[0;34m,\u001b[0m \u001b[0mendwith\u001b[0m\u001b[0;34m)\u001b[0m\u001b[0;34m:\u001b[0m\u001b[0;34m\u001b[0m\u001b[0;34m\u001b[0m\u001b[0m\n\u001b[0;32m----> 3\u001b[0;31m     \u001b[0mfiles\u001b[0m\u001b[0;34m=\u001b[0m\u001b[0msorted\u001b[0m\u001b[0;34m(\u001b[0m\u001b[0mos\u001b[0m\u001b[0;34m.\u001b[0m\u001b[0mlistdir\u001b[0m\u001b[0;34m(\u001b[0m\u001b[0mdir_path\u001b[0m\u001b[0;34m)\u001b[0m\u001b[0;34m)\u001b[0m\u001b[0;34m\u001b[0m\u001b[0;34m\u001b[0m\u001b[0m\n\u001b[0m\u001b[1;32m      4\u001b[0m     \u001b[0mprint\u001b[0m \u001b[0;34m(\u001b[0m\u001b[0mfiles\u001b[0m\u001b[0;34m)\u001b[0m\u001b[0;34m\u001b[0m\u001b[0;34m\u001b[0m\u001b[0m\n\u001b[1;32m      5\u001b[0m     \u001b[0martifacts\u001b[0m \u001b[0;34m=\u001b[0m \u001b[0;34m''\u001b[0m\u001b[0;34m\u001b[0m\u001b[0;34m\u001b[0m\u001b[0m\n",
      "\u001b[0;31mFileNotFoundError\u001b[0m: [Errno 2] No such file or directory: '/home/slhuang/Public/2019_spring/lineage_inference/code/RELIC/RELIC_Silu/dataset/'"
     ]
    }
   ],
   "source": [
    "row_cnt = 10000\n",
    "col_cnt = 20\n",
    "branch_factor = 1.5\n",
    "version_cnt = [40] # 20, 40, 50\n",
    "materialize_freq = [2] # [,2,3,4,5]\n",
    "repeat = 10\n",
    "\n",
    "# common_edges = {}\n",
    "for v_cnt in version_cnt:\n",
    "    for freq in materialize_freq:\n",
    "        result = [] # 10 sample exp\n",
    "        for i in range(repeat):\n",
    "            # generate data\n",
    "            clear_files()\n",
    "            real_edges = data_gen(row_cnt, col_cnt, v_cnt, branch_factor, freq)\n",
    "            e_dict = {}\n",
    "            for e in real_edges:\n",
    "                e_dict[e[0] + \".csv \" + e[1] + \".csv\"] = 1\n",
    "                e_dict[e[1]+ \".csv \" + e[0]+ \".csv\"]= 1\n",
    "            lineage_inference('-no_pre_cluster')\n",
    "            inferred = read_edges()\n",
    "            no_pre_cluster_result = calculate_common_edge(inferred)\n",
    "            lineage_inference('-exact_schema')\n",
    "            inferred = read_edges()\n",
    "            exact_schema_result = calculate_common_edge(inferred)\n",
    "            result.append([no_pre_cluster_result, exact_schema_result])\n",
    "        common_edges[str(v_cnt) + ',' + str(freq)] = result"
   ]
  },
  {
   "cell_type": "code",
   "execution_count": 28,
   "metadata": {},
   "outputs": [
    {
     "data": {
      "text/plain": [
       "{'10,1': [[[9, 9], [9, 9]],\n",
       "  [[8, 9], [9, 9]],\n",
       "  [[8, 8], [8, 8]],\n",
       "  [[6, 5], [6, 5]],\n",
       "  [[6, 6], [6, 6]],\n",
       "  [[5, 3], [5, 3]],\n",
       "  [[9, 7], [9, 7]],\n",
       "  [[8, 8], [8, 8]],\n",
       "  [[9, 9], [9, 9]],\n",
       "  [[9, 8], [9, 8]]],\n",
       " '10,2': [[[9, 7], [9, 8]],\n",
       "  [[9, 7], [9, 7]],\n",
       "  [[8, 8], [8, 8]],\n",
       "  [[8, 6], [8, 7]],\n",
       "  [[9, 6], [9, 7]],\n",
       "  [[8, 4], [8, 4]],\n",
       "  [[9, 8], [8, 7]],\n",
       "  [[9, 9], [9, 9]],\n",
       "  [[9, 6], [9, 6]],\n",
       "  [[9, 5], [9, 5]]],\n",
       " '10,3': [[[9, 6], [9, 7]],\n",
       "  [[9, 6], [9, 6]],\n",
       "  [[9, 9], [9, 9]],\n",
       "  [[9, 6], [9, 6]],\n",
       "  [[8, 8], [8, 8]],\n",
       "  [[8, 7], [8, 7]],\n",
       "  [[9, 9], [9, 9]],\n",
       "  [[9, 8], [9, 8]],\n",
       "  [[9, 7], [9, 7]],\n",
       "  [[8, 8], [9, 8]]],\n",
       " '20,1': [[[14, 13], [14, 13]],\n",
       "  [[16, 16], [17, 16]],\n",
       "  [[13, 12], [13, 12]],\n",
       "  [[10, 10], [10, 10]],\n",
       "  [[18, 18], [18, 18]],\n",
       "  [[18, 16], [18, 16]],\n",
       "  [[12, 12], [12, 12]],\n",
       "  [[17, 14], [17, 14]],\n",
       "  [[17, 15], [17, 15]],\n",
       "  [[16, 15], [16, 15]]],\n",
       " '20,2': [[[17, 15], [18, 16]],\n",
       "  [[19, 19], [19, 19]],\n",
       "  [[17, 11], [17, 11]],\n",
       "  [[19, 16], [19, 16]],\n",
       "  [[19, 17], [19, 17]],\n",
       "  [[18, 17], [18, 17]],\n",
       "  [[18, 16], [18, 16]],\n",
       "  [[18, 17], [19, 17]],\n",
       "  [[15, 12], [15, 13]],\n",
       "  [[16, 14], [16, 14]]],\n",
       " '20,3': [[[19, 19], [19, 19]],\n",
       "  [[18, 13], [18, 13]],\n",
       "  [[19, 17], [19, 17]],\n",
       "  [[16, 16], [16, 16]],\n",
       "  [[19, 17], [18, 17]],\n",
       "  [[17, 13], [16, 13]],\n",
       "  [[19, 16], [19, 16]],\n",
       "  [[19, 18], [19, 18]],\n",
       "  [[18, 16], [18, 16]],\n",
       "  [[18, 16], [18, 16]]],\n",
       " '40,1': [[[36, 32], [35, 32]],\n",
       "  [[30, 27], [30, 27]],\n",
       "  [[28, 24], [28, 24]],\n",
       "  [[30, 28], [30, 28]],\n",
       "  [[26, 22], [26, 23]],\n",
       "  [[29, 27], [29, 27]],\n",
       "  [[35, 32], [35, 32]],\n",
       "  [[31, 29], [31, 29]],\n",
       "  [[38, 37], [38, 37]],\n",
       "  [[32, 31], [33, 32]]],\n",
       " '40,2': [[[37, 30], [37, 30]],\n",
       "  [[39, 34], [39, 34]],\n",
       "  [[38, 31], [38, 31]],\n",
       "  [[38, 36], [37, 36]],\n",
       "  [[39, 36], [39, 36]],\n",
       "  [[37, 30], [37, 30]],\n",
       "  [[37, 30], [36, 30]],\n",
       "  [[35, 34], [36, 33]],\n",
       "  [[36, 34], [36, 35]],\n",
       "  [[32, 29], [33, 31]]],\n",
       " '40,3': [[[37, 27], [37, 27]],\n",
       "  [[38, 31], [38, 31]],\n",
       "  [[36, 28], [36, 29]],\n",
       "  [[35, 23], [35, 22]],\n",
       "  [[32, 27], [34, 28]],\n",
       "  [[31, 24], [32, 27]],\n",
       "  [[37, 30], [37, 32]],\n",
       "  [[33, 32], [33, 32]],\n",
       "  [[36, 32], [37, 34]],\n",
       "  [[38, 31], [39, 31]]],\n",
       " '80,3': [[[68, 60], [70, 62]],\n",
       "  [[72, 69], [72, 70]],\n",
       "  [[75, 67], [76, 68]],\n",
       "  [[65, 59], [66, 60]],\n",
       "  [[69, 62], [69, 64]],\n",
       "  [[76, 67], [75, 68]],\n",
       "  [[71, 66], [72, 67]],\n",
       "  [[70, 65], [72, 67]],\n",
       "  [[69, 67], [71, 68]],\n",
       "  [[73, 59], [75, 61]]]}"
      ]
     },
     "execution_count": 28,
     "metadata": {},
     "output_type": "execute_result"
    }
   ],
   "source": [
    "common_edges"
   ]
  },
  {
   "cell_type": "code",
   "execution_count": null,
   "metadata": {
    "collapsed": true
   },
   "outputs": [],
   "source": []
  }
 ],
 "metadata": {
  "kernelspec": {
   "display_name": "Python 3",
   "language": "python",
   "name": "python3"
  },
  "language_info": {
   "codemirror_mode": {
    "name": "ipython",
    "version": 3
   },
   "file_extension": ".py",
   "mimetype": "text/x-python",
   "name": "python",
   "nbconvert_exporter": "python",
   "pygments_lexer": "ipython3",
   "version": "3.7.3"
  }
 },
 "nbformat": 4,
 "nbformat_minor": 2
}
